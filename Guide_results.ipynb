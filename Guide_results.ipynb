{
  "nbformat": 4,
  "nbformat_minor": 0,
  "metadata": {
    "colab": {
      "provenance": []
    },
    "kernelspec": {
      "name": "python3",
      "display_name": "Python 3"
    },
    "language_info": {
      "name": "python"
    }
  },
  "cells": [
    {
      "cell_type": "markdown",
      "source": [
        "# 1. RL Algorithms preliminary analysis"
      ],
      "metadata": {
        "id": "U73Z7TyE_07N"
      }
    },
    {
      "cell_type": "markdown",
      "source": [
        "The preliminary analysis can be checked out in the Jupyter Notebook \"Stable_baseline3_RL_algo_comparison.ipynb\""
      ],
      "metadata": {
        "id": "Qy4Xux45_8I9"
      }
    },
    {
      "cell_type": "markdown",
      "source": [
        "# 2. LLM training and Server"
      ],
      "metadata": {
        "id": "bAoE2MkSBUa9"
      }
    },
    {
      "cell_type": "markdown",
      "source": [
        "All the process of training and server creation is done in \"main_file.ipynb\""
      ],
      "metadata": {
        "id": "5X6ssvyjBbNZ"
      }
    },
    {
      "cell_type": "markdown",
      "source": [
        "# 3. Model rendering"
      ],
      "metadata": {
        "id": "sITRAOlqBhlZ"
      }
    },
    {
      "cell_type": "markdown",
      "source": [
        "The model rendering of videos for testing from trained models can be found in \"Model_rendering.ipynb\". Also stats from the testing are shown. As an example, the walk test is provided."
      ],
      "metadata": {
        "id": "S-T3W5KwBkBV"
      }
    },
    {
      "cell_type": "markdown",
      "source": [
        "# 4. Comparison"
      ],
      "metadata": {
        "id": "CTwBYqIKB-bs"
      }
    },
    {
      "cell_type": "markdown",
      "source": [
        "The comparison of features between the human-coded adn LLM-coded in a test can be seen in \"Comparison_human_LLM.ipynb\". The features are loaded from tests done in \"Model_rendering.ipynb\"."
      ],
      "metadata": {
        "id": "11k8cHqdCDvU"
      }
    },
    {
      "cell_type": "markdown",
      "source": [
        "# 5. Poster"
      ],
      "metadata": {
        "id": "1Fw9mXq5CzYO"
      }
    },
    {
      "cell_type": "markdown",
      "source": [
        "The poster presented during the poster sessions is uploaded as 02456_LLM_generalization.pdf\"."
      ],
      "metadata": {
        "id": "TThUcH-dC3G5"
      }
    },
    {
      "cell_type": "markdown",
      "source": [
        "# 6. Videos of results"
      ],
      "metadata": {
        "id": "FFDu2bk2C-6S"
      }
    },
    {
      "cell_type": "markdown",
      "source": [
        "Two videos were generated as results after rendering the models\n",
        "\n",
        "**Running comparison between Human-coded and LLM-coded**\n",
        "\n",
        "https://youtu.be/mJYHtzl2wMI?si=HjKZUUa7TjdkYGhD\n",
        "\n",
        "**Validation of LLM generation: successful task (walking) and unsuccessful task (jumping)**\n",
        "\n",
        "https://youtu.be/25JGFQBGZK0?si=Lzuvu4kNLE7KFCYp"
      ],
      "metadata": {
        "id": "1oFi3NrODC2_"
      }
    },
    {
      "cell_type": "markdown",
      "source": [
        "# 7. Server"
      ],
      "metadata": {
        "id": "6C4ED-gMDhg4"
      }
    },
    {
      "cell_type": "markdown",
      "source": [
        "In order to interact with the model, a server as API was performed. In order to access to it, please contact us to launch the server (it is closed by default for not consuming resources) and it will be accesible in the following server:\n",
        "\n",
        "\n",
        "http://3.213.158.146/\n"
      ],
      "metadata": {
        "id": "Gl3IoZ7vDjrL"
      }
    }
  ]
}